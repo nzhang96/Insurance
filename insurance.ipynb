{
 "cells": [
  {
   "cell_type": "markdown",
   "metadata": {},
   "source": [
    "# Insurance Forcast by Using Linear Regression\n",
    "\n",
    "Data file obtained from: https://github.com/stedy/Machine-Learning-with-R-datasets\n",
    "\n",
    "\n",
    "This project aims to find the variables that best predict the insurance price in a sample of clients in the United States using linear regressions.\n",
    "\n",
    "\n",
    "#### Predictor Variables:\n",
    "1. Age \n",
    "2. Gender\n",
    "3. BMI\n",
    "4. Number of Children\n",
    "5. Smoking Status\n",
    "6. Region\n",
    "\n"
   ]
  },
  {
   "cell_type": "markdown",
   "metadata": {},
   "source": [
    "## 1. Preparing Data For Analysis"
   ]
  },
  {
   "cell_type": "code",
   "execution_count": 12,
   "metadata": {},
   "outputs": [],
   "source": [
    "import pandas as pd\n",
    "import numpy as np\n",
    "import os\n",
    "import matplotlib.pyplot as plt\n",
    "import seaborn as sns"
   ]
  },
  {
   "cell_type": "markdown",
   "metadata": {},
   "source": [
    "##### import data into a dataframe:"
   ]
  },
  {
   "cell_type": "code",
   "execution_count": 2,
   "metadata": {},
   "outputs": [
    {
     "data": {
      "text/html": [
       "<div>\n",
       "<style scoped>\n",
       "    .dataframe tbody tr th:only-of-type {\n",
       "        vertical-align: middle;\n",
       "    }\n",
       "\n",
       "    .dataframe tbody tr th {\n",
       "        vertical-align: top;\n",
       "    }\n",
       "\n",
       "    .dataframe thead th {\n",
       "        text-align: right;\n",
       "    }\n",
       "</style>\n",
       "<table border=\"1\" class=\"dataframe\">\n",
       "  <thead>\n",
       "    <tr style=\"text-align: right;\">\n",
       "      <th></th>\n",
       "      <th>age</th>\n",
       "      <th>sex</th>\n",
       "      <th>bmi</th>\n",
       "      <th>children</th>\n",
       "      <th>smoker</th>\n",
       "      <th>region</th>\n",
       "      <th>charges</th>\n",
       "    </tr>\n",
       "  </thead>\n",
       "  <tbody>\n",
       "    <tr>\n",
       "      <td>0</td>\n",
       "      <td>19</td>\n",
       "      <td>female</td>\n",
       "      <td>27.900</td>\n",
       "      <td>0</td>\n",
       "      <td>yes</td>\n",
       "      <td>southwest</td>\n",
       "      <td>16884.92400</td>\n",
       "    </tr>\n",
       "    <tr>\n",
       "      <td>1</td>\n",
       "      <td>18</td>\n",
       "      <td>male</td>\n",
       "      <td>33.770</td>\n",
       "      <td>1</td>\n",
       "      <td>no</td>\n",
       "      <td>southeast</td>\n",
       "      <td>1725.55230</td>\n",
       "    </tr>\n",
       "    <tr>\n",
       "      <td>2</td>\n",
       "      <td>28</td>\n",
       "      <td>male</td>\n",
       "      <td>33.000</td>\n",
       "      <td>3</td>\n",
       "      <td>no</td>\n",
       "      <td>southeast</td>\n",
       "      <td>4449.46200</td>\n",
       "    </tr>\n",
       "    <tr>\n",
       "      <td>3</td>\n",
       "      <td>33</td>\n",
       "      <td>male</td>\n",
       "      <td>22.705</td>\n",
       "      <td>0</td>\n",
       "      <td>no</td>\n",
       "      <td>northwest</td>\n",
       "      <td>21984.47061</td>\n",
       "    </tr>\n",
       "    <tr>\n",
       "      <td>4</td>\n",
       "      <td>32</td>\n",
       "      <td>male</td>\n",
       "      <td>28.880</td>\n",
       "      <td>0</td>\n",
       "      <td>no</td>\n",
       "      <td>northwest</td>\n",
       "      <td>3866.85520</td>\n",
       "    </tr>\n",
       "  </tbody>\n",
       "</table>\n",
       "</div>"
      ],
      "text/plain": [
       "   age     sex     bmi  children smoker     region      charges\n",
       "0   19  female  27.900         0    yes  southwest  16884.92400\n",
       "1   18    male  33.770         1     no  southeast   1725.55230\n",
       "2   28    male  33.000         3     no  southeast   4449.46200\n",
       "3   33    male  22.705         0     no  northwest  21984.47061\n",
       "4   32    male  28.880         0     no  northwest   3866.85520"
      ]
     },
     "execution_count": 2,
     "metadata": {},
     "output_type": "execute_result"
    }
   ],
   "source": [
    "df = pd.read_csv('./insurance.csv')\n",
    "df.head()"
   ]
  },
  {
   "cell_type": "markdown",
   "metadata": {},
   "source": [
    "##### Check for null values:"
   ]
  },
  {
   "cell_type": "code",
   "execution_count": 3,
   "metadata": {},
   "outputs": [
    {
     "data": {
      "text/plain": [
       "age         0\n",
       "sex         0\n",
       "bmi         0\n",
       "children    0\n",
       "smoker      0\n",
       "region      0\n",
       "charges     0\n",
       "dtype: int64"
      ]
     },
     "execution_count": 3,
     "metadata": {},
     "output_type": "execute_result"
    }
   ],
   "source": [
    "df.isnull().sum()"
   ]
  },
  {
   "cell_type": "markdown",
   "metadata": {},
   "source": [
    "No null values are found in the dataframe"
   ]
  },
  {
   "cell_type": "markdown",
   "metadata": {},
   "source": [
    "##### Check the shape of the dataframe: "
   ]
  },
  {
   "cell_type": "code",
   "execution_count": 4,
   "metadata": {},
   "outputs": [
    {
     "data": {
      "text/plain": [
       "(1338, 7)"
      ]
     },
     "execution_count": 4,
     "metadata": {},
     "output_type": "execute_result"
    }
   ],
   "source": [
    "df.shape"
   ]
  },
  {
   "cell_type": "markdown",
   "metadata": {},
   "source": [
    "The dataframe has 1338 rows (with 1 header row) and 7 columns. "
   ]
  },
  {
   "cell_type": "markdown",
   "metadata": {},
   "source": [
    "##### Check the datatype of each column: "
   ]
  },
  {
   "cell_type": "code",
   "execution_count": 5,
   "metadata": {},
   "outputs": [
    {
     "data": {
      "text/plain": [
       "age           int64\n",
       "sex          object\n",
       "bmi         float64\n",
       "children      int64\n",
       "smoker       object\n",
       "region       object\n",
       "charges     float64\n",
       "dtype: object"
      ]
     },
     "execution_count": 5,
     "metadata": {},
     "output_type": "execute_result"
    }
   ],
   "source": [
    "df.dtypes"
   ]
  },
  {
   "cell_type": "markdown",
   "metadata": {},
   "source": [
    "The variables \"sex\", \"smoker\", and \"region\" are categorical variables. The will be encoded as numerical factors. "
   ]
  },
  {
   "cell_type": "markdown",
   "metadata": {},
   "source": [
    "##### Converting Categorical Variables to Factors:"
   ]
  },
  {
   "cell_type": "code",
   "execution_count": 6,
   "metadata": {},
   "outputs": [
    {
     "data": {
      "text/html": [
       "<div>\n",
       "<style scoped>\n",
       "    .dataframe tbody tr th:only-of-type {\n",
       "        vertical-align: middle;\n",
       "    }\n",
       "\n",
       "    .dataframe tbody tr th {\n",
       "        vertical-align: top;\n",
       "    }\n",
       "\n",
       "    .dataframe thead th {\n",
       "        text-align: right;\n",
       "    }\n",
       "</style>\n",
       "<table border=\"1\" class=\"dataframe\">\n",
       "  <thead>\n",
       "    <tr style=\"text-align: right;\">\n",
       "      <th></th>\n",
       "      <th>age</th>\n",
       "      <th>sex</th>\n",
       "      <th>bmi</th>\n",
       "      <th>children</th>\n",
       "      <th>smoker</th>\n",
       "      <th>region</th>\n",
       "      <th>charges</th>\n",
       "    </tr>\n",
       "  </thead>\n",
       "  <tbody>\n",
       "    <tr>\n",
       "      <td>0</td>\n",
       "      <td>19</td>\n",
       "      <td>0</td>\n",
       "      <td>27.900</td>\n",
       "      <td>0</td>\n",
       "      <td>1</td>\n",
       "      <td>3</td>\n",
       "      <td>16884.92400</td>\n",
       "    </tr>\n",
       "    <tr>\n",
       "      <td>1</td>\n",
       "      <td>18</td>\n",
       "      <td>1</td>\n",
       "      <td>33.770</td>\n",
       "      <td>1</td>\n",
       "      <td>0</td>\n",
       "      <td>2</td>\n",
       "      <td>1725.55230</td>\n",
       "    </tr>\n",
       "    <tr>\n",
       "      <td>2</td>\n",
       "      <td>28</td>\n",
       "      <td>1</td>\n",
       "      <td>33.000</td>\n",
       "      <td>3</td>\n",
       "      <td>0</td>\n",
       "      <td>2</td>\n",
       "      <td>4449.46200</td>\n",
       "    </tr>\n",
       "    <tr>\n",
       "      <td>3</td>\n",
       "      <td>33</td>\n",
       "      <td>1</td>\n",
       "      <td>22.705</td>\n",
       "      <td>0</td>\n",
       "      <td>0</td>\n",
       "      <td>1</td>\n",
       "      <td>21984.47061</td>\n",
       "    </tr>\n",
       "    <tr>\n",
       "      <td>4</td>\n",
       "      <td>32</td>\n",
       "      <td>1</td>\n",
       "      <td>28.880</td>\n",
       "      <td>0</td>\n",
       "      <td>0</td>\n",
       "      <td>1</td>\n",
       "      <td>3866.85520</td>\n",
       "    </tr>\n",
       "  </tbody>\n",
       "</table>\n",
       "</div>"
      ],
      "text/plain": [
       "   age  sex     bmi  children  smoker  region      charges\n",
       "0   19    0  27.900         0       1       3  16884.92400\n",
       "1   18    1  33.770         1       0       2   1725.55230\n",
       "2   28    1  33.000         3       0       2   4449.46200\n",
       "3   33    1  22.705         0       0       1  21984.47061\n",
       "4   32    1  28.880         0       0       1   3866.85520"
      ]
     },
     "execution_count": 6,
     "metadata": {},
     "output_type": "execute_result"
    }
   ],
   "source": [
    "from sklearn.preprocessing import LabelEncoder\n",
    "\n",
    "#Gender\n",
    "le = LabelEncoder()\n",
    "le.fit(df.sex.drop_duplicates()) \n",
    "df.sex = le.transform(df.sex)\n",
    "\n",
    "# Smoking Status \n",
    "le.fit(df.smoker.drop_duplicates()) \n",
    "df.smoker = le.transform(df.smoker)\n",
    "\n",
    "#Region\n",
    "le.fit(df.region.drop_duplicates()) \n",
    "df.region = le.transform(df.region)\n",
    "\n",
    "df.head()"
   ]
  },
  {
   "cell_type": "markdown",
   "metadata": {},
   "source": [
    "## 2. Test for Multicollinearity"
   ]
  },
  {
   "cell_type": "markdown",
   "metadata": {},
   "source": [
    "##### Correlations between 'charges' and the six predictor variables:"
   ]
  },
  {
   "cell_type": "code",
   "execution_count": 7,
   "metadata": {},
   "outputs": [
    {
     "data": {
      "text/plain": [
       "region     -0.006208\n",
       "sex         0.057292\n",
       "children    0.067998\n",
       "bmi         0.198341\n",
       "age         0.299008\n",
       "smoker      0.787251\n",
       "charges     1.000000\n",
       "Name: charges, dtype: float64"
      ]
     },
     "execution_count": 7,
     "metadata": {},
     "output_type": "execute_result"
    }
   ],
   "source": [
    "df.corr()['charges'].sort_values()"
   ]
  },
  {
   "cell_type": "markdown",
   "metadata": {},
   "source": [
    "Only smoking status has a high correlation (r = 0.79) with the insurance charged. "
   ]
  },
  {
   "cell_type": "markdown",
   "metadata": {},
   "source": [
    "##### Correlation matrix for all variables:"
   ]
  },
  {
   "cell_type": "code",
   "execution_count": 8,
   "metadata": {},
   "outputs": [
    {
     "data": {
      "text/html": [
       "<style  type=\"text/css\" >\n",
       "    #T_8c3960f8_6f17_11ea_b05b_f018981f1971row0_col0 {\n",
       "            background-color:  #b40426;\n",
       "            color:  #f1f1f1;\n",
       "        }    #T_8c3960f8_6f17_11ea_b05b_f018981f1971row0_col1 {\n",
       "            background-color:  #3b4cc0;\n",
       "            color:  #f1f1f1;\n",
       "        }    #T_8c3960f8_6f17_11ea_b05b_f018981f1971row0_col2 {\n",
       "            background-color:  #5b7ae5;\n",
       "            color:  #000000;\n",
       "        }    #T_8c3960f8_6f17_11ea_b05b_f018981f1971row0_col3 {\n",
       "            background-color:  #445acc;\n",
       "            color:  #f1f1f1;\n",
       "        }    #T_8c3960f8_6f17_11ea_b05b_f018981f1971row0_col4 {\n",
       "            background-color:  #3b4cc0;\n",
       "            color:  #f1f1f1;\n",
       "        }    #T_8c3960f8_6f17_11ea_b05b_f018981f1971row0_col5 {\n",
       "            background-color:  #3d50c3;\n",
       "            color:  #f1f1f1;\n",
       "        }    #T_8c3960f8_6f17_11ea_b05b_f018981f1971row0_col6 {\n",
       "            background-color:  #9fbfff;\n",
       "            color:  #000000;\n",
       "        }    #T_8c3960f8_6f17_11ea_b05b_f018981f1971row1_col0 {\n",
       "            background-color:  #3c4ec2;\n",
       "            color:  #f1f1f1;\n",
       "        }    #T_8c3960f8_6f17_11ea_b05b_f018981f1971row1_col1 {\n",
       "            background-color:  #b40426;\n",
       "            color:  #f1f1f1;\n",
       "        }    #T_8c3960f8_6f17_11ea_b05b_f018981f1971row1_col2 {\n",
       "            background-color:  #465ecf;\n",
       "            color:  #f1f1f1;\n",
       "        }    #T_8c3960f8_6f17_11ea_b05b_f018981f1971row1_col3 {\n",
       "            background-color:  #3d50c3;\n",
       "            color:  #f1f1f1;\n",
       "        }    #T_8c3960f8_6f17_11ea_b05b_f018981f1971row1_col4 {\n",
       "            background-color:  #5977e3;\n",
       "            color:  #000000;\n",
       "        }    #T_8c3960f8_6f17_11ea_b05b_f018981f1971row1_col5 {\n",
       "            background-color:  #3d50c3;\n",
       "            color:  #f1f1f1;\n",
       "        }    #T_8c3960f8_6f17_11ea_b05b_f018981f1971row1_col6 {\n",
       "            background-color:  #4e68d8;\n",
       "            color:  #000000;\n",
       "        }    #T_8c3960f8_6f17_11ea_b05b_f018981f1971row2_col0 {\n",
       "            background-color:  #6384eb;\n",
       "            color:  #000000;\n",
       "        }    #T_8c3960f8_6f17_11ea_b05b_f018981f1971row2_col1 {\n",
       "            background-color:  #4e68d8;\n",
       "            color:  #000000;\n",
       "        }    #T_8c3960f8_6f17_11ea_b05b_f018981f1971row2_col2 {\n",
       "            background-color:  #b40426;\n",
       "            color:  #f1f1f1;\n",
       "        }    #T_8c3960f8_6f17_11ea_b05b_f018981f1971row2_col3 {\n",
       "            background-color:  #3c4ec2;\n",
       "            color:  #f1f1f1;\n",
       "        }    #T_8c3960f8_6f17_11ea_b05b_f018981f1971row2_col4 {\n",
       "            background-color:  #4358cb;\n",
       "            color:  #f1f1f1;\n",
       "        }    #T_8c3960f8_6f17_11ea_b05b_f018981f1971row2_col5 {\n",
       "            background-color:  #6e90f2;\n",
       "            color:  #000000;\n",
       "        }    #T_8c3960f8_6f17_11ea_b05b_f018981f1971row2_col6 {\n",
       "            background-color:  #7da0f9;\n",
       "            color:  #000000;\n",
       "        }    #T_8c3960f8_6f17_11ea_b05b_f018981f1971row3_col0 {\n",
       "            background-color:  #4e68d8;\n",
       "            color:  #000000;\n",
       "        }    #T_8c3960f8_6f17_11ea_b05b_f018981f1971row3_col1 {\n",
       "            background-color:  #455cce;\n",
       "            color:  #f1f1f1;\n",
       "        }    #T_8c3960f8_6f17_11ea_b05b_f018981f1971row3_col2 {\n",
       "            background-color:  #3d50c3;\n",
       "            color:  #f1f1f1;\n",
       "        }    #T_8c3960f8_6f17_11ea_b05b_f018981f1971row3_col3 {\n",
       "            background-color:  #b40426;\n",
       "            color:  #f1f1f1;\n",
       "        }    #T_8c3960f8_6f17_11ea_b05b_f018981f1971row3_col4 {\n",
       "            background-color:  #445acc;\n",
       "            color:  #f1f1f1;\n",
       "        }    #T_8c3960f8_6f17_11ea_b05b_f018981f1971row3_col5 {\n",
       "            background-color:  #4055c8;\n",
       "            color:  #f1f1f1;\n",
       "        }    #T_8c3960f8_6f17_11ea_b05b_f018981f1971row3_col6 {\n",
       "            background-color:  #506bda;\n",
       "            color:  #000000;\n",
       "        }    #T_8c3960f8_6f17_11ea_b05b_f018981f1971row4_col0 {\n",
       "            background-color:  #3b4cc0;\n",
       "            color:  #f1f1f1;\n",
       "        }    #T_8c3960f8_6f17_11ea_b05b_f018981f1971row4_col1 {\n",
       "            background-color:  #5875e1;\n",
       "            color:  #000000;\n",
       "        }    #T_8c3960f8_6f17_11ea_b05b_f018981f1971row4_col2 {\n",
       "            background-color:  #3b4cc0;\n",
       "            color:  #f1f1f1;\n",
       "        }    #T_8c3960f8_6f17_11ea_b05b_f018981f1971row4_col3 {\n",
       "            background-color:  #3b4cc0;\n",
       "            color:  #f1f1f1;\n",
       "        }    #T_8c3960f8_6f17_11ea_b05b_f018981f1971row4_col4 {\n",
       "            background-color:  #b40426;\n",
       "            color:  #f1f1f1;\n",
       "        }    #T_8c3960f8_6f17_11ea_b05b_f018981f1971row4_col5 {\n",
       "            background-color:  #3c4ec2;\n",
       "            color:  #f1f1f1;\n",
       "        }    #T_8c3960f8_6f17_11ea_b05b_f018981f1971row4_col6 {\n",
       "            background-color:  #f08a6c;\n",
       "            color:  #000000;\n",
       "        }    #T_8c3960f8_6f17_11ea_b05b_f018981f1971row5_col0 {\n",
       "            background-color:  #4257c9;\n",
       "            color:  #f1f1f1;\n",
       "        }    #T_8c3960f8_6f17_11ea_b05b_f018981f1971row5_col1 {\n",
       "            background-color:  #4257c9;\n",
       "            color:  #f1f1f1;\n",
       "        }    #T_8c3960f8_6f17_11ea_b05b_f018981f1971row5_col2 {\n",
       "            background-color:  #6b8df0;\n",
       "            color:  #000000;\n",
       "        }    #T_8c3960f8_6f17_11ea_b05b_f018981f1971row5_col3 {\n",
       "            background-color:  #3d50c3;\n",
       "            color:  #f1f1f1;\n",
       "        }    #T_8c3960f8_6f17_11ea_b05b_f018981f1971row5_col4 {\n",
       "            background-color:  #4055c8;\n",
       "            color:  #f1f1f1;\n",
       "        }    #T_8c3960f8_6f17_11ea_b05b_f018981f1971row5_col5 {\n",
       "            background-color:  #b40426;\n",
       "            color:  #f1f1f1;\n",
       "        }    #T_8c3960f8_6f17_11ea_b05b_f018981f1971row5_col6 {\n",
       "            background-color:  #3b4cc0;\n",
       "            color:  #f1f1f1;\n",
       "        }    #T_8c3960f8_6f17_11ea_b05b_f018981f1971row6_col0 {\n",
       "            background-color:  #a3c2fe;\n",
       "            color:  #000000;\n",
       "        }    #T_8c3960f8_6f17_11ea_b05b_f018981f1971row6_col1 {\n",
       "            background-color:  #516ddb;\n",
       "            color:  #000000;\n",
       "        }    #T_8c3960f8_6f17_11ea_b05b_f018981f1971row6_col2 {\n",
       "            background-color:  #7a9df8;\n",
       "            color:  #000000;\n",
       "        }    #T_8c3960f8_6f17_11ea_b05b_f018981f1971row6_col3 {\n",
       "            background-color:  #4c66d6;\n",
       "            color:  #000000;\n",
       "        }    #T_8c3960f8_6f17_11ea_b05b_f018981f1971row6_col4 {\n",
       "            background-color:  #ef886b;\n",
       "            color:  #000000;\n",
       "        }    #T_8c3960f8_6f17_11ea_b05b_f018981f1971row6_col5 {\n",
       "            background-color:  #3b4cc0;\n",
       "            color:  #f1f1f1;\n",
       "        }    #T_8c3960f8_6f17_11ea_b05b_f018981f1971row6_col6 {\n",
       "            background-color:  #b40426;\n",
       "            color:  #f1f1f1;\n",
       "        }</style><table id=\"T_8c3960f8_6f17_11ea_b05b_f018981f1971\" ><thead>    <tr>        <th class=\"blank level0\" ></th>        <th class=\"col_heading level0 col0\" >age</th>        <th class=\"col_heading level0 col1\" >sex</th>        <th class=\"col_heading level0 col2\" >bmi</th>        <th class=\"col_heading level0 col3\" >children</th>        <th class=\"col_heading level0 col4\" >smoker</th>        <th class=\"col_heading level0 col5\" >region</th>        <th class=\"col_heading level0 col6\" >charges</th>    </tr></thead><tbody>\n",
       "                <tr>\n",
       "                        <th id=\"T_8c3960f8_6f17_11ea_b05b_f018981f1971level0_row0\" class=\"row_heading level0 row0\" >age</th>\n",
       "                        <td id=\"T_8c3960f8_6f17_11ea_b05b_f018981f1971row0_col0\" class=\"data row0 col0\" >1</td>\n",
       "                        <td id=\"T_8c3960f8_6f17_11ea_b05b_f018981f1971row0_col1\" class=\"data row0 col1\" >-0.021</td>\n",
       "                        <td id=\"T_8c3960f8_6f17_11ea_b05b_f018981f1971row0_col2\" class=\"data row0 col2\" >0.11</td>\n",
       "                        <td id=\"T_8c3960f8_6f17_11ea_b05b_f018981f1971row0_col3\" class=\"data row0 col3\" >0.042</td>\n",
       "                        <td id=\"T_8c3960f8_6f17_11ea_b05b_f018981f1971row0_col4\" class=\"data row0 col4\" >-0.025</td>\n",
       "                        <td id=\"T_8c3960f8_6f17_11ea_b05b_f018981f1971row0_col5\" class=\"data row0 col5\" >0.0021</td>\n",
       "                        <td id=\"T_8c3960f8_6f17_11ea_b05b_f018981f1971row0_col6\" class=\"data row0 col6\" >0.3</td>\n",
       "            </tr>\n",
       "            <tr>\n",
       "                        <th id=\"T_8c3960f8_6f17_11ea_b05b_f018981f1971level0_row1\" class=\"row_heading level0 row1\" >sex</th>\n",
       "                        <td id=\"T_8c3960f8_6f17_11ea_b05b_f018981f1971row1_col0\" class=\"data row1 col0\" >-0.021</td>\n",
       "                        <td id=\"T_8c3960f8_6f17_11ea_b05b_f018981f1971row1_col1\" class=\"data row1 col1\" >1</td>\n",
       "                        <td id=\"T_8c3960f8_6f17_11ea_b05b_f018981f1971row1_col2\" class=\"data row1 col2\" >0.046</td>\n",
       "                        <td id=\"T_8c3960f8_6f17_11ea_b05b_f018981f1971row1_col3\" class=\"data row1 col3\" >0.017</td>\n",
       "                        <td id=\"T_8c3960f8_6f17_11ea_b05b_f018981f1971row1_col4\" class=\"data row1 col4\" >0.076</td>\n",
       "                        <td id=\"T_8c3960f8_6f17_11ea_b05b_f018981f1971row1_col5\" class=\"data row1 col5\" >0.0046</td>\n",
       "                        <td id=\"T_8c3960f8_6f17_11ea_b05b_f018981f1971row1_col6\" class=\"data row1 col6\" >0.057</td>\n",
       "            </tr>\n",
       "            <tr>\n",
       "                        <th id=\"T_8c3960f8_6f17_11ea_b05b_f018981f1971level0_row2\" class=\"row_heading level0 row2\" >bmi</th>\n",
       "                        <td id=\"T_8c3960f8_6f17_11ea_b05b_f018981f1971row2_col0\" class=\"data row2 col0\" >0.11</td>\n",
       "                        <td id=\"T_8c3960f8_6f17_11ea_b05b_f018981f1971row2_col1\" class=\"data row2 col1\" >0.046</td>\n",
       "                        <td id=\"T_8c3960f8_6f17_11ea_b05b_f018981f1971row2_col2\" class=\"data row2 col2\" >1</td>\n",
       "                        <td id=\"T_8c3960f8_6f17_11ea_b05b_f018981f1971row2_col3\" class=\"data row2 col3\" >0.013</td>\n",
       "                        <td id=\"T_8c3960f8_6f17_11ea_b05b_f018981f1971row2_col4\" class=\"data row2 col4\" >0.0038</td>\n",
       "                        <td id=\"T_8c3960f8_6f17_11ea_b05b_f018981f1971row2_col5\" class=\"data row2 col5\" >0.16</td>\n",
       "                        <td id=\"T_8c3960f8_6f17_11ea_b05b_f018981f1971row2_col6\" class=\"data row2 col6\" >0.2</td>\n",
       "            </tr>\n",
       "            <tr>\n",
       "                        <th id=\"T_8c3960f8_6f17_11ea_b05b_f018981f1971level0_row3\" class=\"row_heading level0 row3\" >children</th>\n",
       "                        <td id=\"T_8c3960f8_6f17_11ea_b05b_f018981f1971row3_col0\" class=\"data row3 col0\" >0.042</td>\n",
       "                        <td id=\"T_8c3960f8_6f17_11ea_b05b_f018981f1971row3_col1\" class=\"data row3 col1\" >0.017</td>\n",
       "                        <td id=\"T_8c3960f8_6f17_11ea_b05b_f018981f1971row3_col2\" class=\"data row3 col2\" >0.013</td>\n",
       "                        <td id=\"T_8c3960f8_6f17_11ea_b05b_f018981f1971row3_col3\" class=\"data row3 col3\" >1</td>\n",
       "                        <td id=\"T_8c3960f8_6f17_11ea_b05b_f018981f1971row3_col4\" class=\"data row3 col4\" >0.0077</td>\n",
       "                        <td id=\"T_8c3960f8_6f17_11ea_b05b_f018981f1971row3_col5\" class=\"data row3 col5\" >0.017</td>\n",
       "                        <td id=\"T_8c3960f8_6f17_11ea_b05b_f018981f1971row3_col6\" class=\"data row3 col6\" >0.068</td>\n",
       "            </tr>\n",
       "            <tr>\n",
       "                        <th id=\"T_8c3960f8_6f17_11ea_b05b_f018981f1971level0_row4\" class=\"row_heading level0 row4\" >smoker</th>\n",
       "                        <td id=\"T_8c3960f8_6f17_11ea_b05b_f018981f1971row4_col0\" class=\"data row4 col0\" >-0.025</td>\n",
       "                        <td id=\"T_8c3960f8_6f17_11ea_b05b_f018981f1971row4_col1\" class=\"data row4 col1\" >0.076</td>\n",
       "                        <td id=\"T_8c3960f8_6f17_11ea_b05b_f018981f1971row4_col2\" class=\"data row4 col2\" >0.0038</td>\n",
       "                        <td id=\"T_8c3960f8_6f17_11ea_b05b_f018981f1971row4_col3\" class=\"data row4 col3\" >0.0077</td>\n",
       "                        <td id=\"T_8c3960f8_6f17_11ea_b05b_f018981f1971row4_col4\" class=\"data row4 col4\" >1</td>\n",
       "                        <td id=\"T_8c3960f8_6f17_11ea_b05b_f018981f1971row4_col5\" class=\"data row4 col5\" >-0.0022</td>\n",
       "                        <td id=\"T_8c3960f8_6f17_11ea_b05b_f018981f1971row4_col6\" class=\"data row4 col6\" >0.79</td>\n",
       "            </tr>\n",
       "            <tr>\n",
       "                        <th id=\"T_8c3960f8_6f17_11ea_b05b_f018981f1971level0_row5\" class=\"row_heading level0 row5\" >region</th>\n",
       "                        <td id=\"T_8c3960f8_6f17_11ea_b05b_f018981f1971row5_col0\" class=\"data row5 col0\" >0.0021</td>\n",
       "                        <td id=\"T_8c3960f8_6f17_11ea_b05b_f018981f1971row5_col1\" class=\"data row5 col1\" >0.0046</td>\n",
       "                        <td id=\"T_8c3960f8_6f17_11ea_b05b_f018981f1971row5_col2\" class=\"data row5 col2\" >0.16</td>\n",
       "                        <td id=\"T_8c3960f8_6f17_11ea_b05b_f018981f1971row5_col3\" class=\"data row5 col3\" >0.017</td>\n",
       "                        <td id=\"T_8c3960f8_6f17_11ea_b05b_f018981f1971row5_col4\" class=\"data row5 col4\" >-0.0022</td>\n",
       "                        <td id=\"T_8c3960f8_6f17_11ea_b05b_f018981f1971row5_col5\" class=\"data row5 col5\" >1</td>\n",
       "                        <td id=\"T_8c3960f8_6f17_11ea_b05b_f018981f1971row5_col6\" class=\"data row5 col6\" >-0.0062</td>\n",
       "            </tr>\n",
       "            <tr>\n",
       "                        <th id=\"T_8c3960f8_6f17_11ea_b05b_f018981f1971level0_row6\" class=\"row_heading level0 row6\" >charges</th>\n",
       "                        <td id=\"T_8c3960f8_6f17_11ea_b05b_f018981f1971row6_col0\" class=\"data row6 col0\" >0.3</td>\n",
       "                        <td id=\"T_8c3960f8_6f17_11ea_b05b_f018981f1971row6_col1\" class=\"data row6 col1\" >0.057</td>\n",
       "                        <td id=\"T_8c3960f8_6f17_11ea_b05b_f018981f1971row6_col2\" class=\"data row6 col2\" >0.2</td>\n",
       "                        <td id=\"T_8c3960f8_6f17_11ea_b05b_f018981f1971row6_col3\" class=\"data row6 col3\" >0.068</td>\n",
       "                        <td id=\"T_8c3960f8_6f17_11ea_b05b_f018981f1971row6_col4\" class=\"data row6 col4\" >0.79</td>\n",
       "                        <td id=\"T_8c3960f8_6f17_11ea_b05b_f018981f1971row6_col5\" class=\"data row6 col5\" >-0.0062</td>\n",
       "                        <td id=\"T_8c3960f8_6f17_11ea_b05b_f018981f1971row6_col6\" class=\"data row6 col6\" >1</td>\n",
       "            </tr>\n",
       "    </tbody></table>"
      ],
      "text/plain": [
       "<pandas.io.formats.style.Styler at 0x1a215c6450>"
      ]
     },
     "execution_count": 8,
     "metadata": {},
     "output_type": "execute_result"
    }
   ],
   "source": [
    "corr = df.corr()\n",
    "corr.style.background_gradient(cmap='coolwarm').set_precision(2)"
   ]
  },
  {
   "cell_type": "markdown",
   "metadata": {},
   "source": [
    "##### Heat Map for the correlation matrix: "
   ]
  },
  {
   "cell_type": "code",
   "execution_count": 9,
   "metadata": {
    "scrolled": true
   },
   "outputs": [
    {
     "data": {
      "image/png": "[encoded data removed]",
      "text/plain": [
       "<Figure size 432x288 with 2 Axes>"
      ]
     },
     "metadata": {
      "needs_background": "light"
     },
     "output_type": "display_data"
    }
   ],
   "source": [
    "\n",
    "ax = sns.heatmap(\n",
    "    corr, \n",
    "    vmin=-1, vmax=1, center=0,\n",
    "    cmap='coolwarm',\n",
    "    square=True\n",
    ")\n",
    "ax.set_xticklabels(\n",
    "    ax.get_xticklabels(),\n",
    "    rotation=45,\n",
    "    horizontalalignment='right'\n",
    ");"
   ]
  },
  {
   "cell_type": "markdown",
   "metadata": {},
   "source": [
    "No multicollinearity is seen between the variables."
   ]
  },
  {
   "attachments": {},
   "cell_type": "markdown",
   "metadata": {},
   "source": [
    "## 3. Data Visualization"
   ]
  },
  {
   "cell_type": "markdown",
   "metadata": {},
   "source": [
    "### 3.1 Scatter Plots Between Numerical Predictors and Insurance Price"
   ]
  },
  {
   "cell_type": "markdown",
   "metadata": {},
   "source": [
    "To visualize the data, the predictor variables were plotted against the insurance price ('charges'). "
   ]
  },
  {
   "cell_type": "markdown",
   "metadata": {},
   "source": [
    "#### 3.1.1 Age"
   ]
  },
  {
   "cell_type": "code",
   "execution_count": 75,
   "metadata": {},
   "outputs": [
    {
     "data": {
      "image/png": "[encoded data removed]",
      "text/plain": [
       "<Figure size 864x576 with 1 Axes>"
      ]
     },
     "metadata": {},
     "output_type": "display_data"
    }
   ],
   "source": [
    "plt.scatter(df['age'],df['charges'])\n",
    "\n",
    "\n",
    "plt.xlabel('age')\n",
    "plt.ylabel('charge')\n",
    "\n",
    "plt.show()"
   ]
  },
  {
   "cell_type": "markdown",
   "metadata": {},
   "source": [
    "#### 3.1.2 BMI"
   ]
  },
  {
   "cell_type": "code",
   "execution_count": 77,
   "metadata": {},
   "outputs": [
    {
     "data": {
      "image/png": "[encoded data removed]",
      "text/plain": [
       "<Figure size 864x576 with 1 Axes>"
      ]
     },
     "metadata": {},
     "output_type": "display_data"
    }
   ],
   "source": [
    "plt.scatter(df['bmi'],df['charges'])\n",
    "\n",
    "\n",
    "plt.xlabel('bmi')\n",
    "plt.ylabel('charge')\n",
    "\n",
    "plt.show()"
   ]
  },
  {
   "cell_type": "markdown",
   "metadata": {},
   "source": [
    "### 3.2 Histogram for Distribution of Insurance Price"
   ]
  },
  {
   "cell_type": "code",
   "execution_count": 68,
   "metadata": {},
   "outputs": [
    {
     "data": {
      "text/plain": [
       "Text(0.5, 1.0, 'Distribution of Insurance Prices')"
      ]
     },
     "execution_count": 68,
     "metadata": {},
     "output_type": "execute_result"
    },
    {
     "data": {
      "image/png": "[encoded data removed]",
      "text/plain": [
       "<Figure size 432x288 with 1 Axes>"
      ]
     },
     "metadata": {},
     "output_type": "display_data"
    }
   ],
   "source": [
    "\n",
    "#plt.hist(df['charges'], alpha =.6, density = True, color='darkgreen');\n",
    "\n",
    "sns.set_style('darkgrid')\n",
    "sns.distplot(df['charges'])\n",
    "plt.title(\"Distribution of Insurance Prices\")"
   ]
  },
  {
   "cell_type": "markdown",
   "metadata": {},
   "source": [
    "The data for insurance prices is skewed to the right, with most of it values between $0 to $10,000. The frequency of the prices decline as the prices increase. "
   ]
  },
  {
   "cell_type": "markdown",
   "metadata": {},
   "source": [
    "## 4. Linear Regression "
   ]
  },
  {
   "cell_type": "markdown",
   "metadata": {},
   "source": [
    "Since no multicollinearity is seen, all predictor variables will be used in the regression model."
   ]
  },
  {
   "cell_type": "markdown",
   "metadata": {},
   "source": [
    "A backwise multivariate linear regression model will be used."
   ]
  },
  {
   "cell_type": "markdown",
   "metadata": {},
   "source": [
    "### 4.1 Multiple Linear Regression with All Predictors:  "
   ]
  },
  {
   "cell_type": "code",
   "execution_count": 25,
   "metadata": {},
   "outputs": [],
   "source": [
    "from sklearn.linear_model import LinearRegression\n",
    "from sklearn import linear_model\n",
    "import statsmodels.api as sm"
   ]
  },
  {
   "cell_type": "code",
   "execution_count": 37,
   "metadata": {},
   "outputs": [
    {
     "data": {
      "text/html": [
       "<div>\n",
       "<style scoped>\n",
       "    .dataframe tbody tr th:only-of-type {\n",
       "        vertical-align: middle;\n",
       "    }\n",
       "\n",
       "    .dataframe tbody tr th {\n",
       "        vertical-align: top;\n",
       "    }\n",
       "\n",
       "    .dataframe thead th {\n",
       "        text-align: right;\n",
       "    }\n",
       "</style>\n",
       "<table border=\"1\" class=\"dataframe\">\n",
       "  <thead>\n",
       "    <tr style=\"text-align: right;\">\n",
       "      <th></th>\n",
       "      <th>age</th>\n",
       "      <th>bmi</th>\n",
       "      <th>children</th>\n",
       "      <th>charges</th>\n",
       "      <th>sex_male</th>\n",
       "      <th>smoker_yes</th>\n",
       "      <th>region_northwest</th>\n",
       "      <th>region_southeast</th>\n",
       "      <th>region_southwest</th>\n",
       "    </tr>\n",
       "  </thead>\n",
       "  <tbody>\n",
       "    <tr>\n",
       "      <td>0</td>\n",
       "      <td>19</td>\n",
       "      <td>27.900</td>\n",
       "      <td>0</td>\n",
       "      <td>16884.92400</td>\n",
       "      <td>0</td>\n",
       "      <td>1</td>\n",
       "      <td>0</td>\n",
       "      <td>0</td>\n",
       "      <td>1</td>\n",
       "    </tr>\n",
       "    <tr>\n",
       "      <td>1</td>\n",
       "      <td>18</td>\n",
       "      <td>33.770</td>\n",
       "      <td>1</td>\n",
       "      <td>1725.55230</td>\n",
       "      <td>1</td>\n",
       "      <td>0</td>\n",
       "      <td>0</td>\n",
       "      <td>1</td>\n",
       "      <td>0</td>\n",
       "    </tr>\n",
       "    <tr>\n",
       "      <td>2</td>\n",
       "      <td>28</td>\n",
       "      <td>33.000</td>\n",
       "      <td>3</td>\n",
       "      <td>4449.46200</td>\n",
       "      <td>1</td>\n",
       "      <td>0</td>\n",
       "      <td>0</td>\n",
       "      <td>1</td>\n",
       "      <td>0</td>\n",
       "    </tr>\n",
       "    <tr>\n",
       "      <td>3</td>\n",
       "      <td>33</td>\n",
       "      <td>22.705</td>\n",
       "      <td>0</td>\n",
       "      <td>21984.47061</td>\n",
       "      <td>1</td>\n",
       "      <td>0</td>\n",
       "      <td>1</td>\n",
       "      <td>0</td>\n",
       "      <td>0</td>\n",
       "    </tr>\n",
       "    <tr>\n",
       "      <td>4</td>\n",
       "      <td>32</td>\n",
       "      <td>28.880</td>\n",
       "      <td>0</td>\n",
       "      <td>3866.85520</td>\n",
       "      <td>1</td>\n",
       "      <td>0</td>\n",
       "      <td>1</td>\n",
       "      <td>0</td>\n",
       "      <td>0</td>\n",
       "    </tr>\n",
       "  </tbody>\n",
       "</table>\n",
       "</div>"
      ],
      "text/plain": [
       "   age     bmi  children      charges  sex_male  smoker_yes  region_northwest  \\\n",
       "0   19  27.900         0  16884.92400         0           1                 0   \n",
       "1   18  33.770         1   1725.55230         1           0                 0   \n",
       "2   28  33.000         3   4449.46200         1           0                 0   \n",
       "3   33  22.705         0  21984.47061         1           0                 1   \n",
       "4   32  28.880         0   3866.85520         1           0                 1   \n",
       "\n",
       "   region_southeast  region_southwest  \n",
       "0                 0                 1  \n",
       "1                 1                 0  \n",
       "2                 1                 0  \n",
       "3                 0                 0  \n",
       "4                 0                 0  "
      ]
     },
     "execution_count": 37,
     "metadata": {},
     "output_type": "execute_result"
    }
   ],
   "source": [
    "df1 = pd.read_csv('./insurance.csv')\n",
    "df1 = pd.get_dummies(df1, prefix=['sex','smoker','region'])\n",
    "\n",
    "\n",
    "df1.drop('sex_female',axis=1,inplace=True)\n",
    "df1.drop('smoker_no',axis=1,inplace=True)\n",
    "df1.drop('region_northeast',axis=1,inplace=True)\n",
    "df1.head()\n",
    "\n"
   ]
  },
  {
   "cell_type": "code",
   "execution_count": 50,
   "metadata": {},
   "outputs": [
    {
     "name": "stdout",
     "output_type": "stream",
     "text": [
      "                                 OLS Regression Results                                \n",
      "=======================================================================================\n",
      "Dep. Variable:                charges   R-squared (uncentered):                   0.874\n",
      "Model:                            OLS   Adj. R-squared (uncentered):              0.874\n",
      "Method:                 Least Squares   F-statistic:                              1158.\n",
      "Date:                Wed, 25 Mar 2020   Prob (F-statistic):                        0.00\n",
      "Time:                        23:04:27   Log-Likelihood:                         -13618.\n",
      "No. Observations:                1338   AIC:                                  2.725e+04\n",
      "Df Residuals:                    1330   BIC:                                  2.729e+04\n",
      "Df Model:                           8                                                  \n",
      "Covariance Type:            nonrobust                                                  \n",
      "====================================================================================\n",
      "                       coef    std err          t      P>|t|      [0.025      0.975]\n",
      "------------------------------------------------------------------------------------\n",
      "age                203.0019     11.619     17.471      0.000     180.208     225.796\n",
      "sex_male          -665.6124    347.528     -1.915      0.056   -1347.376      16.151\n",
      "bmi                 69.2858     18.815      3.683      0.000      32.376     106.196\n",
      "children           289.0531    144.213      2.004      0.045       6.144     571.962\n",
      "smoker_yes        2.337e+04    433.137     53.966      0.000    2.25e+04    2.42e+04\n",
      "region_northwest -1736.0707    486.883     -3.566      0.000   -2691.213    -780.928\n",
      "region_southeast -1281.8646    503.664     -2.545      0.011   -2269.926    -293.803\n",
      "region_southwest -1950.0825    495.875     -3.933      0.000   -2922.864    -977.301\n",
      "==============================================================================\n",
      "Omnibus:                      275.143   Durbin-Watson:                   2.062\n",
      "Prob(Omnibus):                  0.000   Jarque-Bera (JB):              642.991\n",
      "Skew:                           1.123   Prob(JB):                    2.38e-140\n",
      "Kurtosis:                       5.548   Cond. No.                         206.\n",
      "==============================================================================\n",
      "\n",
      "Warnings:\n",
      "[1] Standard Errors assume that the covariance matrix of the errors is correctly specified.\n"
     ]
    }
   ],
   "source": [
    "\n",
    "\n",
    "X = df1[['age','sex_male','bmi','children','smoker_yes','region_northwest','region_southeast','region_southwest']]\n",
    "Y = df1['charges']\n",
    " \n",
    "\n",
    "#model = mlr.fit(X,Y)\n",
    "model = sm.OLS(Y, X)\n",
    "results = model.fit()\n",
    "print(results.summary())\n",
    "    \n"
   ]
  },
  {
   "attachments": {},
   "cell_type": "markdown",
   "metadata": {},
   "source": [
    "All predictor variables except for 'sex' were signifcant predictors that account for 87.4% of the variance in 'charges'. "
   ]
  },
  {
   "cell_type": "markdown",
   "metadata": {},
   "source": [
    "The next step is to take a look at the model after 'sex' is removed. "
   ]
  },
  {
   "cell_type": "markdown",
   "metadata": {},
   "source": [
    "### 4.2 Multiple Linear Regression with All Predictors Except For 'Sex': "
   ]
  },
  {
   "cell_type": "code",
   "execution_count": 49,
   "metadata": {},
   "outputs": [
    {
     "name": "stdout",
     "output_type": "stream",
     "text": [
      "                                 OLS Regression Results                                \n",
      "=======================================================================================\n",
      "Dep. Variable:                charges   R-squared (uncentered):                   0.874\n",
      "Model:                            OLS   Adj. R-squared (uncentered):              0.873\n",
      "Method:                 Least Squares   F-statistic:                              1320.\n",
      "Date:                Wed, 25 Mar 2020   Prob (F-statistic):                        0.00\n",
      "Time:                        23:03:22   Log-Likelihood:                         -13619.\n",
      "No. Observations:                1338   AIC:                                  2.725e+04\n",
      "Df Residuals:                    1331   BIC:                                  2.729e+04\n",
      "Df Model:                           7                                                  \n",
      "Covariance Type:            nonrobust                                                  \n",
      "====================================================================================\n",
      "                       coef    std err          t      P>|t|      [0.025      0.975]\n",
      "------------------------------------------------------------------------------------\n",
      "age                202.4027     11.627     17.409      0.000     179.594     225.211\n",
      "bmi                 60.5225     18.268      3.313      0.001      24.685      96.360\n",
      "children           280.0648    144.281      1.941      0.052      -2.977     563.107\n",
      "smoker_yes         2.33e+04    431.856     53.955      0.000    2.25e+04    2.41e+04\n",
      "region_northwest -1762.9606    487.168     -3.619      0.000   -2718.662    -807.260\n",
      "region_southeast -1283.9681    504.167     -2.547      0.011   -2273.017    -294.920\n",
      "region_southwest -1968.7282    496.276     -3.967      0.000   -2942.296    -995.160\n",
      "==============================================================================\n",
      "Omnibus:                      277.097   Durbin-Watson:                   2.063\n",
      "Prob(Omnibus):                  0.000   Jarque-Bera (JB):              650.362\n",
      "Skew:                           1.128   Prob(JB):                    5.97e-142\n",
      "Kurtosis:                       5.564   Cond. No.                         206.\n",
      "==============================================================================\n",
      "\n",
      "Warnings:\n",
      "[1] Standard Errors assume that the covariance matrix of the errors is correctly specified.\n"
     ]
    }
   ],
   "source": [
    "X1 = df1[['age','bmi','children','smoker_yes','region_northwest','region_southeast','region_southwest']]\n",
    "Y1 = df1['charges']\n",
    " \n",
    "\n",
    "#model = mlr.fit(X,Y)\n",
    "model1 = sm.OLS(Y1, X1)\n",
    "results1 = model1.fit()\n",
    "print(results1.summary())"
   ]
  },
  {
   "cell_type": "markdown",
   "metadata": {},
   "source": [
    "The predictor 'children' is no longer a significant predictor. It will be removed for the subsequent analysis. "
   ]
  },
  {
   "cell_type": "markdown",
   "metadata": {},
   "source": [
    "### 4.3 Multiple Linear Regression with All Predictors Except For 'sex' and 'children': "
   ]
  },
  {
   "cell_type": "code",
   "execution_count": 52,
   "metadata": {},
   "outputs": [
    {
     "name": "stdout",
     "output_type": "stream",
     "text": [
      "                                 OLS Regression Results                                \n",
      "=======================================================================================\n",
      "Dep. Variable:                charges   R-squared (uncentered):                   0.874\n",
      "Model:                            OLS   Adj. R-squared (uncentered):              0.873\n",
      "Method:                 Least Squares   F-statistic:                              1536.\n",
      "Date:                Wed, 25 Mar 2020   Prob (F-statistic):                        0.00\n",
      "Time:                        23:06:32   Log-Likelihood:                         -13621.\n",
      "No. Observations:                1338   AIC:                                  2.725e+04\n",
      "Df Residuals:                    1332   BIC:                                  2.729e+04\n",
      "Df Model:                           6                                                  \n",
      "Covariance Type:            nonrobust                                                  \n",
      "====================================================================================\n",
      "                       coef    std err          t      P>|t|      [0.025      0.975]\n",
      "------------------------------------------------------------------------------------\n",
      "age                204.4554     11.590     17.640      0.000     181.718     227.193\n",
      "bmi                 66.7188     18.006      3.705      0.000      31.396     102.042\n",
      "smoker_yes        2.332e+04    432.180     53.961      0.000    2.25e+04    2.42e+04\n",
      "region_northwest -1706.5021    486.804     -3.506      0.000   -2661.488    -751.516\n",
      "region_southeast -1281.6837    504.689     -2.540      0.011   -2271.756    -291.612\n",
      "region_southwest -1923.1789    496.236     -3.876      0.000   -2896.667    -949.690\n",
      "==============================================================================\n",
      "Omnibus:                      276.407   Durbin-Watson:                   2.059\n",
      "Prob(Omnibus):                  0.000   Jarque-Bera (JB):              642.856\n",
      "Skew:                           1.129   Prob(JB):                    2.54e-140\n",
      "Kurtosis:                       5.535   Cond. No.                         206.\n",
      "==============================================================================\n",
      "\n",
      "Warnings:\n",
      "[1] Standard Errors assume that the covariance matrix of the errors is correctly specified.\n"
     ]
    }
   ],
   "source": [
    "X2 = df1[['age','bmi','smoker_yes','region_northwest','region_southeast','region_southwest']]\n",
    "Y2 = df1['charges']\n",
    " \n",
    "\n",
    "#model = mlr.fit(X,Y)\n",
    "model2 = sm.OLS(Y2, X2)\n",
    "results2 = model2.fit()\n",
    "print(results2.summary())"
   ]
  },
  {
   "cell_type": "code",
   "execution_count": 56,
   "metadata": {},
   "outputs": [
    {
     "name": "stdout",
     "output_type": "stream",
     "text": [
      "intercept: -11601.560408982128\n"
     ]
    }
   ],
   "source": [
    "mlr = LinearRegression()\n",
    "model2int = mlr.fit(X2,Y2)\n",
    "print('intercept:', model2int.intercept_)"
   ]
  },
  {
   "cell_type": "markdown",
   "metadata": {},
   "source": [
    "All remaining predictor variables ('age','bmi','smoker', and 'region') are significant predictors that account for 87.4 of the variance in 'charges'. This will be used as the final model. "
   ]
  },
  {
   "cell_type": "markdown",
   "metadata": {},
   "source": [
    "## 5. Final Model "
   ]
  },
  {
   "cell_type": "markdown",
   "metadata": {},
   "source": [
    "$ charges = 204.46(age) + 66.72(bmi) + 23320.00(smoker) - 1706.50(NW) - 1281.68(SE) - 1923.1789(SW) - 11601.56 $"
   ]
  },
  {
   "cell_type": "markdown",
   "metadata": {},
   "source": [
    "Insurance price..."
   ]
  },
  {
   "cell_type": "markdown",
   "metadata": {},
   "source": [
    "- increases with age, BMI, if the client is a smoker\n",
    "- decreases if the client is in the NW, SE, or SW regions compared to if he or she is in the NE region"
   ]
  },
  {
   "cell_type": "markdown",
   "metadata": {},
   "source": [
    "This model can be used to predict the insurance price of a potential client using the following predictors: "
   ]
  },
  {
   "cell_type": "markdown",
   "metadata": {},
   "source": [
    "1. Age \n",
    "2. BMI\n",
    "3. Smoking Status\n",
    "4. Region"
   ]
  }
 ],
 "metadata": {
  "kernelspec": {
   "display_name": "Python 3",
   "language": "python",
   "name": "python3"
  },
  "language_info": {
   "codemirror_mode": {
    "name": "ipython",
    "version": 3
   },
   "file_extension": ".py",
   "mimetype": "text/x-python",
   "name": "python",
   "nbconvert_exporter": "python",
   "pygments_lexer": "ipython3",
   "version": "3.7.4"
  }
 },
 "nbformat": 4,
 "nbformat_minor": 4
}
